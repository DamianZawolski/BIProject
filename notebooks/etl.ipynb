{
 "cells": [
  {
   "attachments": {},
   "cell_type": "markdown",
   "metadata": {},
   "source": [
    "### **ETL** - *extract tranform load*"
   ]
  },
  {
   "cell_type": "code",
   "execution_count": 19,
   "metadata": {
    "ExecuteTime": {
     "end_time": "2023-06-18T00:29:09.976968Z",
     "start_time": "2023-06-18T00:29:09.925971500Z"
    }
   },
   "outputs": [],
   "source": [
    "import os\n",
    "import pandas as pd"
   ]
  },
  {
   "cell_type": "code",
   "execution_count": 20,
   "metadata": {
    "ExecuteTime": {
     "end_time": "2023-06-18T00:29:25.191976600Z",
     "start_time": "2023-06-18T00:29:09.943960300Z"
    }
   },
   "outputs": [],
   "source": [
    "DATA_FOLDER = ''\n",
    "BIKE_RENTALS_FILE = 'tripdata_connected.csv'\n",
    "WEATHER_FILE = 'weather_data.csv'\n",
    "\n",
    "bike_rentals_df = pd.read_csv(os.path.join('..', DATA_FOLDER, BIKE_RENTALS_FILE))\n",
    "weather_df = pd.read_csv(os.path.join('..', DATA_FOLDER, WEATHER_FILE),\n",
    "                         encoding=\"Windows-1250\", sep=\";\")"
   ]
  },
  {
   "cell_type": "code",
   "execution_count": 21,
   "metadata": {
    "ExecuteTime": {
     "end_time": "2023-06-18T00:29:25.244321700Z",
     "start_time": "2023-06-18T00:29:25.194997800Z"
    }
   },
   "outputs": [
    {
     "data": {
      "text/plain": "            Ride_Id  Rideable_Type      Started_At        Ended_At   \n0  0BE9C131A5705D92   classic_bike  10/1/2021 0:00  10/1/2021 0:05  \\\n1  ABA2BDC3595FC3E9   classic_bike  10/1/2021 0:00  10/1/2021 0:10   \n2  74483AC18C8C6B90   classic_bike  10/1/2021 0:00  10/1/2021 0:08   \n3  A7711BCB74523614  electric_bike  10/1/2021 0:02  10/1/2021 0:03   \n4  B0B9EB7622461EF4   classic_bike  10/1/2021 0:02  10/1/2021 0:17   \n\n        Start_Station_Name Start_Station_Id               End_Station_Name   \n0  Damen Ave & Cortland St            13133    Winchester Ave & Elston Ave  \\\n1      Morgan St & Lake St     TA1306000015       Noble St & Milwaukee Ave   \n2   Halsted St & Roscoe St     TA1309000025  Greenview Ave & Diversey Pkwy   \n3                      NaN              NaN                            NaN   \n4      MLK Jr Dr & 29th St     TA1307000139      Clinton St & Roosevelt Rd   \n\n  End_Station_Id  Start_Lat  Start_Lng    End_Lat    End_Lng Member_Casual   \n0   KA1504000140  41.915983 -87.677335  41.924091 -87.676460        casual  \\\n1          13290  41.885483 -87.652305  41.900680 -87.662600        casual   \n2          13294  41.943670 -87.648950  41.932590 -87.665936        casual   \n3            NaN  41.930000 -87.700000  41.930000 -87.700000        casual   \n4         WL-008  41.842052 -87.617000  41.867118 -87.641088        member   \n\n  Ride_Length  Day_Of_The_Week     Day  \n0     0:05:00                6  Friday  \n1     0:10:00                6  Friday  \n2     0:08:00                6  Friday  \n3     0:01:00                6  Friday  \n4     0:15:00                6  Friday  ",
      "text/html": "<div>\n<style scoped>\n    .dataframe tbody tr th:only-of-type {\n        vertical-align: middle;\n    }\n\n    .dataframe tbody tr th {\n        vertical-align: top;\n    }\n\n    .dataframe thead th {\n        text-align: right;\n    }\n</style>\n<table border=\"1\" class=\"dataframe\">\n  <thead>\n    <tr style=\"text-align: right;\">\n      <th></th>\n      <th>Ride_Id</th>\n      <th>Rideable_Type</th>\n      <th>Started_At</th>\n      <th>Ended_At</th>\n      <th>Start_Station_Name</th>\n      <th>Start_Station_Id</th>\n      <th>End_Station_Name</th>\n      <th>End_Station_Id</th>\n      <th>Start_Lat</th>\n      <th>Start_Lng</th>\n      <th>End_Lat</th>\n      <th>End_Lng</th>\n      <th>Member_Casual</th>\n      <th>Ride_Length</th>\n      <th>Day_Of_The_Week</th>\n      <th>Day</th>\n    </tr>\n  </thead>\n  <tbody>\n    <tr>\n      <th>0</th>\n      <td>0BE9C131A5705D92</td>\n      <td>classic_bike</td>\n      <td>10/1/2021 0:00</td>\n      <td>10/1/2021 0:05</td>\n      <td>Damen Ave &amp; Cortland St</td>\n      <td>13133</td>\n      <td>Winchester Ave &amp; Elston Ave</td>\n      <td>KA1504000140</td>\n      <td>41.915983</td>\n      <td>-87.677335</td>\n      <td>41.924091</td>\n      <td>-87.676460</td>\n      <td>casual</td>\n      <td>0:05:00</td>\n      <td>6</td>\n      <td>Friday</td>\n    </tr>\n    <tr>\n      <th>1</th>\n      <td>ABA2BDC3595FC3E9</td>\n      <td>classic_bike</td>\n      <td>10/1/2021 0:00</td>\n      <td>10/1/2021 0:10</td>\n      <td>Morgan St &amp; Lake St</td>\n      <td>TA1306000015</td>\n      <td>Noble St &amp; Milwaukee Ave</td>\n      <td>13290</td>\n      <td>41.885483</td>\n      <td>-87.652305</td>\n      <td>41.900680</td>\n      <td>-87.662600</td>\n      <td>casual</td>\n      <td>0:10:00</td>\n      <td>6</td>\n      <td>Friday</td>\n    </tr>\n    <tr>\n      <th>2</th>\n      <td>74483AC18C8C6B90</td>\n      <td>classic_bike</td>\n      <td>10/1/2021 0:00</td>\n      <td>10/1/2021 0:08</td>\n      <td>Halsted St &amp; Roscoe St</td>\n      <td>TA1309000025</td>\n      <td>Greenview Ave &amp; Diversey Pkwy</td>\n      <td>13294</td>\n      <td>41.943670</td>\n      <td>-87.648950</td>\n      <td>41.932590</td>\n      <td>-87.665936</td>\n      <td>casual</td>\n      <td>0:08:00</td>\n      <td>6</td>\n      <td>Friday</td>\n    </tr>\n    <tr>\n      <th>3</th>\n      <td>A7711BCB74523614</td>\n      <td>electric_bike</td>\n      <td>10/1/2021 0:02</td>\n      <td>10/1/2021 0:03</td>\n      <td>NaN</td>\n      <td>NaN</td>\n      <td>NaN</td>\n      <td>NaN</td>\n      <td>41.930000</td>\n      <td>-87.700000</td>\n      <td>41.930000</td>\n      <td>-87.700000</td>\n      <td>casual</td>\n      <td>0:01:00</td>\n      <td>6</td>\n      <td>Friday</td>\n    </tr>\n    <tr>\n      <th>4</th>\n      <td>B0B9EB7622461EF4</td>\n      <td>classic_bike</td>\n      <td>10/1/2021 0:02</td>\n      <td>10/1/2021 0:17</td>\n      <td>MLK Jr Dr &amp; 29th St</td>\n      <td>TA1307000139</td>\n      <td>Clinton St &amp; Roosevelt Rd</td>\n      <td>WL-008</td>\n      <td>41.842052</td>\n      <td>-87.617000</td>\n      <td>41.867118</td>\n      <td>-87.641088</td>\n      <td>member</td>\n      <td>0:15:00</td>\n      <td>6</td>\n      <td>Friday</td>\n    </tr>\n  </tbody>\n</table>\n</div>"
     },
     "execution_count": 21,
     "metadata": {},
     "output_type": "execute_result"
    }
   ],
   "source": [
    "bike_rentals_df.head()"
   ]
  },
  {
   "attachments": {},
   "cell_type": "markdown",
   "metadata": {},
   "source": [
    "### **czas**"
   ]
  },
  {
   "cell_type": "code",
   "execution_count": 22,
   "metadata": {
    "ExecuteTime": {
     "end_time": "2023-06-18T00:29:33.022746900Z",
     "start_time": "2023-06-18T00:29:25.227250600Z"
    }
   },
   "outputs": [
    {
     "data": {
      "text/plain": "            Ride_Id        Date  Duration     Day\n0  0BE9C131A5705D92  2021-10-01       5.0  Friday\n1  ABA2BDC3595FC3E9  2021-10-01      10.0  Friday\n2  74483AC18C8C6B90  2021-10-01       8.0  Friday\n3  A7711BCB74523614  2021-10-01       1.0  Friday\n4  B0B9EB7622461EF4  2021-10-01      15.0  Friday",
      "text/html": "<div>\n<style scoped>\n    .dataframe tbody tr th:only-of-type {\n        vertical-align: middle;\n    }\n\n    .dataframe tbody tr th {\n        vertical-align: top;\n    }\n\n    .dataframe thead th {\n        text-align: right;\n    }\n</style>\n<table border=\"1\" class=\"dataframe\">\n  <thead>\n    <tr style=\"text-align: right;\">\n      <th></th>\n      <th>Ride_Id</th>\n      <th>Date</th>\n      <th>Duration</th>\n      <th>Day</th>\n    </tr>\n  </thead>\n  <tbody>\n    <tr>\n      <th>0</th>\n      <td>0BE9C131A5705D92</td>\n      <td>2021-10-01</td>\n      <td>5.0</td>\n      <td>Friday</td>\n    </tr>\n    <tr>\n      <th>1</th>\n      <td>ABA2BDC3595FC3E9</td>\n      <td>2021-10-01</td>\n      <td>10.0</td>\n      <td>Friday</td>\n    </tr>\n    <tr>\n      <th>2</th>\n      <td>74483AC18C8C6B90</td>\n      <td>2021-10-01</td>\n      <td>8.0</td>\n      <td>Friday</td>\n    </tr>\n    <tr>\n      <th>3</th>\n      <td>A7711BCB74523614</td>\n      <td>2021-10-01</td>\n      <td>1.0</td>\n      <td>Friday</td>\n    </tr>\n    <tr>\n      <th>4</th>\n      <td>B0B9EB7622461EF4</td>\n      <td>2021-10-01</td>\n      <td>15.0</td>\n      <td>Friday</td>\n    </tr>\n  </tbody>\n</table>\n</div>"
     },
     "execution_count": 22,
     "metadata": {},
     "output_type": "execute_result"
    }
   ],
   "source": [
    "df_time = bike_rentals_df[['Ride_Id', 'Ride_Length', 'Started_At', 'Ended_At', 'Day']].copy()\n",
    "\n",
    "df_time['Started_At'] = pd.to_datetime(df_time['Started_At'], format='%m/%d/%Y %H:%M')\n",
    "df_time['Ended_At'] = pd.to_datetime(df_time['Ended_At'], format='%m/%d/%Y %H:%M')\n",
    "df_time['Date'] = df_time['Started_At'].dt.date\n",
    "df_time['Duration'] = (df_time['Ended_At'] - df_time['Started_At']).dt.total_seconds() // 60\n",
    "df_time['Duration'].astype(int)\n",
    "\n",
    "df_time = df_time[['Ride_Id', 'Date', 'Duration', 'Day']].copy()\n",
    "\n",
    "\n",
    "df_time.head()"
   ]
  },
  {
   "attachments": {},
   "cell_type": "markdown",
   "metadata": {},
   "source": [
    "### **lokalizacja**"
   ]
  },
  {
   "cell_type": "code",
   "execution_count": 23,
   "metadata": {
    "ExecuteTime": {
     "end_time": "2023-06-18T00:29:34.364839300Z",
     "start_time": "2023-06-18T00:29:33.025756700Z"
    }
   },
   "outputs": [
    {
     "data": {
      "text/plain": "(1279, 5138713)"
     },
     "execution_count": 23,
     "metadata": {},
     "output_type": "execute_result"
    }
   ],
   "source": [
    "df_location = bike_rentals_df[['Ride_Id', 'Start_Station_Id', 'End_Station_Id']].copy()\n",
    "df_stations = bike_rentals_df[['Start_Station_Id', 'Start_Station_Name', 'Start_Lat', 'Start_Lng']].copy()\n",
    "len(df_stations['Start_Station_Id'].unique()), len(df_stations)"
   ]
  },
  {
   "cell_type": "code",
   "execution_count": 24,
   "metadata": {
    "ExecuteTime": {
     "end_time": "2023-06-18T00:29:34.600645300Z",
     "start_time": "2023-06-18T00:29:34.367843400Z"
    }
   },
   "outputs": [
    {
     "data": {
      "text/plain": "  Start_Station_Id       Start_Station_Name  Start_Lat  Start_Lng\n0            13133  Damen Ave & Cortland St  41.915983 -87.677335\n1     TA1306000015      Morgan St & Lake St  41.885483 -87.652305\n2     TA1309000025   Halsted St & Roscoe St  41.943670 -87.648950\n3              NaN                      NaN  41.930000 -87.700000\n4     TA1307000139      MLK Jr Dr & 29th St  41.842052 -87.617000",
      "text/html": "<div>\n<style scoped>\n    .dataframe tbody tr th:only-of-type {\n        vertical-align: middle;\n    }\n\n    .dataframe tbody tr th {\n        vertical-align: top;\n    }\n\n    .dataframe thead th {\n        text-align: right;\n    }\n</style>\n<table border=\"1\" class=\"dataframe\">\n  <thead>\n    <tr style=\"text-align: right;\">\n      <th></th>\n      <th>Start_Station_Id</th>\n      <th>Start_Station_Name</th>\n      <th>Start_Lat</th>\n      <th>Start_Lng</th>\n    </tr>\n  </thead>\n  <tbody>\n    <tr>\n      <th>0</th>\n      <td>13133</td>\n      <td>Damen Ave &amp; Cortland St</td>\n      <td>41.915983</td>\n      <td>-87.677335</td>\n    </tr>\n    <tr>\n      <th>1</th>\n      <td>TA1306000015</td>\n      <td>Morgan St &amp; Lake St</td>\n      <td>41.885483</td>\n      <td>-87.652305</td>\n    </tr>\n    <tr>\n      <th>2</th>\n      <td>TA1309000025</td>\n      <td>Halsted St &amp; Roscoe St</td>\n      <td>41.943670</td>\n      <td>-87.648950</td>\n    </tr>\n    <tr>\n      <th>3</th>\n      <td>NaN</td>\n      <td>NaN</td>\n      <td>41.930000</td>\n      <td>-87.700000</td>\n    </tr>\n    <tr>\n      <th>4</th>\n      <td>TA1307000139</td>\n      <td>MLK Jr Dr &amp; 29th St</td>\n      <td>41.842052</td>\n      <td>-87.617000</td>\n    </tr>\n  </tbody>\n</table>\n</div>"
     },
     "execution_count": 24,
     "metadata": {},
     "output_type": "execute_result"
    }
   ],
   "source": [
    "df_stations = df_stations.drop_duplicates(subset=['Start_Station_Id'])\n",
    "df_stations.head()"
   ]
  },
  {
   "attachments": {},
   "cell_type": "markdown",
   "metadata": {},
   "source": [
    "### **typy**"
   ]
  },
  {
   "cell_type": "code",
   "execution_count": 25,
   "metadata": {
    "ExecuteTime": {
     "end_time": "2023-06-18T00:29:35.013185200Z",
     "start_time": "2023-06-18T00:29:34.642884200Z"
    }
   },
   "outputs": [
    {
     "data": {
      "text/plain": "            Ride_Id  Rideable_Type Member_Casual\n0  0BE9C131A5705D92   classic_bike        casual\n1  ABA2BDC3595FC3E9   classic_bike        casual\n2  74483AC18C8C6B90   classic_bike        casual\n3  A7711BCB74523614  electric_bike        casual\n4  B0B9EB7622461EF4   classic_bike        member",
      "text/html": "<div>\n<style scoped>\n    .dataframe tbody tr th:only-of-type {\n        vertical-align: middle;\n    }\n\n    .dataframe tbody tr th {\n        vertical-align: top;\n    }\n\n    .dataframe thead th {\n        text-align: right;\n    }\n</style>\n<table border=\"1\" class=\"dataframe\">\n  <thead>\n    <tr style=\"text-align: right;\">\n      <th></th>\n      <th>Ride_Id</th>\n      <th>Rideable_Type</th>\n      <th>Member_Casual</th>\n    </tr>\n  </thead>\n  <tbody>\n    <tr>\n      <th>0</th>\n      <td>0BE9C131A5705D92</td>\n      <td>classic_bike</td>\n      <td>casual</td>\n    </tr>\n    <tr>\n      <th>1</th>\n      <td>ABA2BDC3595FC3E9</td>\n      <td>classic_bike</td>\n      <td>casual</td>\n    </tr>\n    <tr>\n      <th>2</th>\n      <td>74483AC18C8C6B90</td>\n      <td>classic_bike</td>\n      <td>casual</td>\n    </tr>\n    <tr>\n      <th>3</th>\n      <td>A7711BCB74523614</td>\n      <td>electric_bike</td>\n      <td>casual</td>\n    </tr>\n    <tr>\n      <th>4</th>\n      <td>B0B9EB7622461EF4</td>\n      <td>classic_bike</td>\n      <td>member</td>\n    </tr>\n  </tbody>\n</table>\n</div>"
     },
     "execution_count": 25,
     "metadata": {},
     "output_type": "execute_result"
    }
   ],
   "source": [
    "df_types = bike_rentals_df[['Ride_Id', 'Rideable_Type', 'Member_Casual']].copy()\n",
    "df_types.head()"
   ]
  },
  {
   "attachments": {},
   "cell_type": "markdown",
   "metadata": {},
   "source": [
    "### **pogoda**"
   ]
  },
  {
   "cell_type": "code",
   "execution_count": 26,
   "metadata": {
    "ExecuteTime": {
     "end_time": "2023-06-18T00:29:35.028713600Z",
     "start_time": "2023-06-18T00:29:35.015186800Z"
    }
   },
   "outputs": [
    {
     "data": {
      "text/plain": "               time temperature_2m (°C) precipitation (mm)  cloudcover (%)   \n0  2021-10-01T00:00                19,3                  0            23.0  \\\n1  2021-10-01T01:00                18,8                  0            14.0   \n2  2021-10-01T02:00                18,5                  0             4.0   \n3  2021-10-01T03:00                18,1                  0             0.0   \n4  2021-10-01T04:00                17,8                  0             0.0   \n\n  windspeed_10m (km/h)   latitude longitude  elevation  utc_offset_seconds   \n0                  9,4  41,800003     -87,6      179.0            -18000.0  \\\n1                  9,9  41,800003     -87,6      179.0            -18000.0   \n2                  9,6  41,800003     -87,6      179.0            -18000.0   \n3                  9,7  41,800003     -87,6      179.0            -18000.0   \n4                   10  41,800003     -87,6      179.0            -18000.0   \n\n          timezone timezone_abbreviation  \n0  America/Chicago                   CDT  \n1  America/Chicago                   CDT  \n2  America/Chicago                   CDT  \n3  America/Chicago                   CDT  \n4  America/Chicago                   CDT  ",
      "text/html": "<div>\n<style scoped>\n    .dataframe tbody tr th:only-of-type {\n        vertical-align: middle;\n    }\n\n    .dataframe tbody tr th {\n        vertical-align: top;\n    }\n\n    .dataframe thead th {\n        text-align: right;\n    }\n</style>\n<table border=\"1\" class=\"dataframe\">\n  <thead>\n    <tr style=\"text-align: right;\">\n      <th></th>\n      <th>time</th>\n      <th>temperature_2m (°C)</th>\n      <th>precipitation (mm)</th>\n      <th>cloudcover (%)</th>\n      <th>windspeed_10m (km/h)</th>\n      <th>latitude</th>\n      <th>longitude</th>\n      <th>elevation</th>\n      <th>utc_offset_seconds</th>\n      <th>timezone</th>\n      <th>timezone_abbreviation</th>\n    </tr>\n  </thead>\n  <tbody>\n    <tr>\n      <th>0</th>\n      <td>2021-10-01T00:00</td>\n      <td>19,3</td>\n      <td>0</td>\n      <td>23.0</td>\n      <td>9,4</td>\n      <td>41,800003</td>\n      <td>-87,6</td>\n      <td>179.0</td>\n      <td>-18000.0</td>\n      <td>America/Chicago</td>\n      <td>CDT</td>\n    </tr>\n    <tr>\n      <th>1</th>\n      <td>2021-10-01T01:00</td>\n      <td>18,8</td>\n      <td>0</td>\n      <td>14.0</td>\n      <td>9,9</td>\n      <td>41,800003</td>\n      <td>-87,6</td>\n      <td>179.0</td>\n      <td>-18000.0</td>\n      <td>America/Chicago</td>\n      <td>CDT</td>\n    </tr>\n    <tr>\n      <th>2</th>\n      <td>2021-10-01T02:00</td>\n      <td>18,5</td>\n      <td>0</td>\n      <td>4.0</td>\n      <td>9,6</td>\n      <td>41,800003</td>\n      <td>-87,6</td>\n      <td>179.0</td>\n      <td>-18000.0</td>\n      <td>America/Chicago</td>\n      <td>CDT</td>\n    </tr>\n    <tr>\n      <th>3</th>\n      <td>2021-10-01T03:00</td>\n      <td>18,1</td>\n      <td>0</td>\n      <td>0.0</td>\n      <td>9,7</td>\n      <td>41,800003</td>\n      <td>-87,6</td>\n      <td>179.0</td>\n      <td>-18000.0</td>\n      <td>America/Chicago</td>\n      <td>CDT</td>\n    </tr>\n    <tr>\n      <th>4</th>\n      <td>2021-10-01T04:00</td>\n      <td>17,8</td>\n      <td>0</td>\n      <td>0.0</td>\n      <td>10</td>\n      <td>41,800003</td>\n      <td>-87,6</td>\n      <td>179.0</td>\n      <td>-18000.0</td>\n      <td>America/Chicago</td>\n      <td>CDT</td>\n    </tr>\n  </tbody>\n</table>\n</div>"
     },
     "execution_count": 26,
     "metadata": {},
     "output_type": "execute_result"
    }
   ],
   "source": [
    "weather_df.head()"
   ]
  },
  {
   "cell_type": "code",
   "execution_count": 31,
   "metadata": {
    "ExecuteTime": {
     "end_time": "2023-06-18T00:33:53.587193400Z",
     "start_time": "2023-06-18T00:33:53.511090200Z"
    }
   },
   "outputs": [
    {
     "ename": "ValueError",
     "evalue": "time data \"2021-10-01T00:00\" doesn't match format \"%Y-%m-%d %H:%M:%S\", at position 0. You might want to try:\n    - passing `format` if your strings have a consistent format;\n    - passing `format='ISO8601'` if your strings are all ISO8601 but not necessarily in exactly the same format;\n    - passing `format='mixed'`, and the format will be inferred for each element individually. You might want to use `dayfirst` alongside this.",
     "output_type": "error",
     "traceback": [
      "\u001B[1;31m---------------------------------------------------------------------------\u001B[0m",
      "\u001B[1;31mValueError\u001B[0m                                Traceback (most recent call last)",
      "Cell \u001B[1;32mIn[31], line 8\u001B[0m\n\u001B[0;32m      2\u001B[0m weather_cols \u001B[38;5;241m=\u001B[39m [\u001B[38;5;124m'\u001B[39m\u001B[38;5;124mTime\u001B[39m\u001B[38;5;124m'\u001B[39m, \u001B[38;5;124m'\u001B[39m\u001B[38;5;124mTemperature\u001B[39m\u001B[38;5;124m'\u001B[39m, \u001B[38;5;124m'\u001B[39m\u001B[38;5;124mPrecipitation\u001B[39m\u001B[38;5;124m'\u001B[39m, \u001B[38;5;124m'\u001B[39m\u001B[38;5;124mWind_Speed\u001B[39m\u001B[38;5;124m'\u001B[39m, \u001B[38;5;124m'\u001B[39m\u001B[38;5;124mLatitude\u001B[39m\u001B[38;5;124m'\u001B[39m, \u001B[38;5;124m'\u001B[39m\u001B[38;5;124mLongitude\u001B[39m\u001B[38;5;124m'\u001B[39m]\n\u001B[0;32m      4\u001B[0m df_weather[weather_cols] \u001B[38;5;241m=\u001B[39m weather_df[[\n\u001B[0;32m      5\u001B[0m     \u001B[38;5;124m'\u001B[39m\u001B[38;5;124mtime\u001B[39m\u001B[38;5;124m'\u001B[39m, \u001B[38;5;124m'\u001B[39m\u001B[38;5;124mtemperature_2m (°C)\u001B[39m\u001B[38;5;124m'\u001B[39m, \u001B[38;5;124m'\u001B[39m\u001B[38;5;124mprecipitation (mm)\u001B[39m\u001B[38;5;124m'\u001B[39m, \u001B[38;5;124m'\u001B[39m\u001B[38;5;124mwindspeed_10m (km/h)\u001B[39m\u001B[38;5;124m'\u001B[39m, \u001B[38;5;124m'\u001B[39m\u001B[38;5;124mlatitude\u001B[39m\u001B[38;5;124m'\u001B[39m, \u001B[38;5;124m'\u001B[39m\u001B[38;5;124mlongitude\u001B[39m\u001B[38;5;124m'\u001B[39m\n\u001B[0;32m      6\u001B[0m     ]]\u001B[38;5;241m.\u001B[39mcopy()\n\u001B[1;32m----> 8\u001B[0m df_weather[\u001B[38;5;124m'\u001B[39m\u001B[38;5;124mTime\u001B[39m\u001B[38;5;124m'\u001B[39m] \u001B[38;5;241m=\u001B[39m \u001B[43mpd\u001B[49m\u001B[38;5;241;43m.\u001B[39;49m\u001B[43mto_datetime\u001B[49m\u001B[43m(\u001B[49m\u001B[43mdf_weather\u001B[49m\u001B[43m[\u001B[49m\u001B[38;5;124;43m'\u001B[39;49m\u001B[38;5;124;43mTime\u001B[39;49m\u001B[38;5;124;43m'\u001B[39;49m\u001B[43m]\u001B[49m\u001B[43m,\u001B[49m\u001B[43m \u001B[49m\u001B[38;5;28;43mformat\u001B[39;49m\u001B[38;5;241;43m=\u001B[39;49m\u001B[38;5;124;43m'\u001B[39;49m\u001B[38;5;124;43m%\u001B[39;49m\u001B[38;5;124;43mY-\u001B[39;49m\u001B[38;5;124;43m%\u001B[39;49m\u001B[38;5;124;43mm-\u001B[39;49m\u001B[38;5;132;43;01m%d\u001B[39;49;00m\u001B[38;5;124;43m \u001B[39;49m\u001B[38;5;124;43m%\u001B[39;49m\u001B[38;5;124;43mH:\u001B[39;49m\u001B[38;5;124;43m%\u001B[39;49m\u001B[38;5;124;43mM:\u001B[39;49m\u001B[38;5;124;43m%\u001B[39;49m\u001B[38;5;124;43mS\u001B[39;49m\u001B[38;5;124;43m'\u001B[39;49m\u001B[43m)\u001B[49m\n\u001B[0;32m     10\u001B[0m float_cols \u001B[38;5;241m=\u001B[39m [\u001B[38;5;124m'\u001B[39m\u001B[38;5;124mTemperature\u001B[39m\u001B[38;5;124m'\u001B[39m, \u001B[38;5;124m'\u001B[39m\u001B[38;5;124mPrecipitation\u001B[39m\u001B[38;5;124m'\u001B[39m, \u001B[38;5;124m'\u001B[39m\u001B[38;5;124mWind_Speed\u001B[39m\u001B[38;5;124m'\u001B[39m, \u001B[38;5;124m'\u001B[39m\u001B[38;5;124mLatitude\u001B[39m\u001B[38;5;124m'\u001B[39m, \u001B[38;5;124m'\u001B[39m\u001B[38;5;124mLongitude\u001B[39m\u001B[38;5;124m'\u001B[39m]\n\u001B[0;32m     11\u001B[0m df_weather[float_cols] \u001B[38;5;241m=\u001B[39m df_weather[float_cols]\u001B[38;5;241m.\u001B[39mreplace(\u001B[38;5;124m'\u001B[39m\u001B[38;5;124m,\u001B[39m\u001B[38;5;124m'\u001B[39m, \u001B[38;5;124m'\u001B[39m\u001B[38;5;124m.\u001B[39m\u001B[38;5;124m'\u001B[39m, regex\u001B[38;5;241m=\u001B[39m\u001B[38;5;28;01mTrue\u001B[39;00m)\u001B[38;5;241m.\u001B[39mastype(\u001B[38;5;28mfloat\u001B[39m)\n",
      "File \u001B[1;32m~\\AppData\\Local\\Programs\\Python\\Python39\\lib\\site-packages\\pandas\\core\\tools\\datetimes.py:1050\u001B[0m, in \u001B[0;36mto_datetime\u001B[1;34m(arg, errors, dayfirst, yearfirst, utc, format, exact, unit, infer_datetime_format, origin, cache)\u001B[0m\n\u001B[0;32m   1048\u001B[0m         result \u001B[38;5;241m=\u001B[39m arg\u001B[38;5;241m.\u001B[39mmap(cache_array)\n\u001B[0;32m   1049\u001B[0m     \u001B[38;5;28;01melse\u001B[39;00m:\n\u001B[1;32m-> 1050\u001B[0m         values \u001B[38;5;241m=\u001B[39m \u001B[43mconvert_listlike\u001B[49m\u001B[43m(\u001B[49m\u001B[43marg\u001B[49m\u001B[38;5;241;43m.\u001B[39;49m\u001B[43m_values\u001B[49m\u001B[43m,\u001B[49m\u001B[43m \u001B[49m\u001B[38;5;28;43mformat\u001B[39;49m\u001B[43m)\u001B[49m\n\u001B[0;32m   1051\u001B[0m         result \u001B[38;5;241m=\u001B[39m arg\u001B[38;5;241m.\u001B[39m_constructor(values, index\u001B[38;5;241m=\u001B[39marg\u001B[38;5;241m.\u001B[39mindex, name\u001B[38;5;241m=\u001B[39marg\u001B[38;5;241m.\u001B[39mname)\n\u001B[0;32m   1052\u001B[0m \u001B[38;5;28;01melif\u001B[39;00m \u001B[38;5;28misinstance\u001B[39m(arg, (ABCDataFrame, abc\u001B[38;5;241m.\u001B[39mMutableMapping)):\n",
      "File \u001B[1;32m~\\AppData\\Local\\Programs\\Python\\Python39\\lib\\site-packages\\pandas\\core\\tools\\datetimes.py:453\u001B[0m, in \u001B[0;36m_convert_listlike_datetimes\u001B[1;34m(arg, format, name, utc, unit, errors, dayfirst, yearfirst, exact)\u001B[0m\n\u001B[0;32m    451\u001B[0m \u001B[38;5;66;03m# `format` could be inferred, or user didn't ask for mixed-format parsing.\u001B[39;00m\n\u001B[0;32m    452\u001B[0m \u001B[38;5;28;01mif\u001B[39;00m \u001B[38;5;28mformat\u001B[39m \u001B[38;5;129;01mis\u001B[39;00m \u001B[38;5;129;01mnot\u001B[39;00m \u001B[38;5;28;01mNone\u001B[39;00m \u001B[38;5;129;01mand\u001B[39;00m \u001B[38;5;28mformat\u001B[39m \u001B[38;5;241m!=\u001B[39m \u001B[38;5;124m\"\u001B[39m\u001B[38;5;124mmixed\u001B[39m\u001B[38;5;124m\"\u001B[39m:\n\u001B[1;32m--> 453\u001B[0m     \u001B[38;5;28;01mreturn\u001B[39;00m \u001B[43m_array_strptime_with_fallback\u001B[49m\u001B[43m(\u001B[49m\u001B[43marg\u001B[49m\u001B[43m,\u001B[49m\u001B[43m \u001B[49m\u001B[43mname\u001B[49m\u001B[43m,\u001B[49m\u001B[43m \u001B[49m\u001B[43mutc\u001B[49m\u001B[43m,\u001B[49m\u001B[43m \u001B[49m\u001B[38;5;28;43mformat\u001B[39;49m\u001B[43m,\u001B[49m\u001B[43m \u001B[49m\u001B[43mexact\u001B[49m\u001B[43m,\u001B[49m\u001B[43m \u001B[49m\u001B[43merrors\u001B[49m\u001B[43m)\u001B[49m\n\u001B[0;32m    455\u001B[0m result, tz_parsed \u001B[38;5;241m=\u001B[39m objects_to_datetime64ns(\n\u001B[0;32m    456\u001B[0m     arg,\n\u001B[0;32m    457\u001B[0m     dayfirst\u001B[38;5;241m=\u001B[39mdayfirst,\n\u001B[1;32m   (...)\u001B[0m\n\u001B[0;32m    461\u001B[0m     allow_object\u001B[38;5;241m=\u001B[39m\u001B[38;5;28;01mTrue\u001B[39;00m,\n\u001B[0;32m    462\u001B[0m )\n\u001B[0;32m    464\u001B[0m \u001B[38;5;28;01mif\u001B[39;00m tz_parsed \u001B[38;5;129;01mis\u001B[39;00m \u001B[38;5;129;01mnot\u001B[39;00m \u001B[38;5;28;01mNone\u001B[39;00m:\n\u001B[0;32m    465\u001B[0m     \u001B[38;5;66;03m# We can take a shortcut since the datetime64 numpy array\u001B[39;00m\n\u001B[0;32m    466\u001B[0m     \u001B[38;5;66;03m# is in UTC\u001B[39;00m\n",
      "File \u001B[1;32m~\\AppData\\Local\\Programs\\Python\\Python39\\lib\\site-packages\\pandas\\core\\tools\\datetimes.py:484\u001B[0m, in \u001B[0;36m_array_strptime_with_fallback\u001B[1;34m(arg, name, utc, fmt, exact, errors)\u001B[0m\n\u001B[0;32m    473\u001B[0m \u001B[38;5;28;01mdef\u001B[39;00m \u001B[38;5;21m_array_strptime_with_fallback\u001B[39m(\n\u001B[0;32m    474\u001B[0m     arg,\n\u001B[0;32m    475\u001B[0m     name,\n\u001B[1;32m   (...)\u001B[0m\n\u001B[0;32m    479\u001B[0m     errors: \u001B[38;5;28mstr\u001B[39m,\n\u001B[0;32m    480\u001B[0m ) \u001B[38;5;241m-\u001B[39m\u001B[38;5;241m>\u001B[39m Index:\n\u001B[0;32m    481\u001B[0m \u001B[38;5;250m    \u001B[39m\u001B[38;5;124;03m\"\"\"\u001B[39;00m\n\u001B[0;32m    482\u001B[0m \u001B[38;5;124;03m    Call array_strptime, with fallback behavior depending on 'errors'.\u001B[39;00m\n\u001B[0;32m    483\u001B[0m \u001B[38;5;124;03m    \"\"\"\u001B[39;00m\n\u001B[1;32m--> 484\u001B[0m     result, timezones \u001B[38;5;241m=\u001B[39m \u001B[43marray_strptime\u001B[49m\u001B[43m(\u001B[49m\u001B[43marg\u001B[49m\u001B[43m,\u001B[49m\u001B[43m \u001B[49m\u001B[43mfmt\u001B[49m\u001B[43m,\u001B[49m\u001B[43m \u001B[49m\u001B[43mexact\u001B[49m\u001B[38;5;241;43m=\u001B[39;49m\u001B[43mexact\u001B[49m\u001B[43m,\u001B[49m\u001B[43m \u001B[49m\u001B[43merrors\u001B[49m\u001B[38;5;241;43m=\u001B[39;49m\u001B[43merrors\u001B[49m\u001B[43m,\u001B[49m\u001B[43m \u001B[49m\u001B[43mutc\u001B[49m\u001B[38;5;241;43m=\u001B[39;49m\u001B[43mutc\u001B[49m\u001B[43m)\u001B[49m\n\u001B[0;32m    485\u001B[0m     \u001B[38;5;28;01mif\u001B[39;00m \u001B[38;5;28many\u001B[39m(tz \u001B[38;5;129;01mis\u001B[39;00m \u001B[38;5;129;01mnot\u001B[39;00m \u001B[38;5;28;01mNone\u001B[39;00m \u001B[38;5;28;01mfor\u001B[39;00m tz \u001B[38;5;129;01min\u001B[39;00m timezones):\n\u001B[0;32m    486\u001B[0m         \u001B[38;5;28;01mreturn\u001B[39;00m _return_parsed_timezone_results(result, timezones, utc, name)\n",
      "File \u001B[1;32m~\\AppData\\Local\\Programs\\Python\\Python39\\lib\\site-packages\\pandas\\_libs\\tslibs\\strptime.pyx:530\u001B[0m, in \u001B[0;36mpandas._libs.tslibs.strptime.array_strptime\u001B[1;34m()\u001B[0m\n",
      "File \u001B[1;32m~\\AppData\\Local\\Programs\\Python\\Python39\\lib\\site-packages\\pandas\\_libs\\tslibs\\strptime.pyx:351\u001B[0m, in \u001B[0;36mpandas._libs.tslibs.strptime.array_strptime\u001B[1;34m()\u001B[0m\n",
      "\u001B[1;31mValueError\u001B[0m: time data \"2021-10-01T00:00\" doesn't match format \"%Y-%m-%d %H:%M:%S\", at position 0. You might want to try:\n    - passing `format` if your strings have a consistent format;\n    - passing `format='ISO8601'` if your strings are all ISO8601 but not necessarily in exactly the same format;\n    - passing `format='mixed'`, and the format will be inferred for each element individually. You might want to use `dayfirst` alongside this."
     ]
    }
   ],
   "source": [
    "df_weather = pd.DataFrame()\n",
    "weather_cols = ['Time', 'Temperature', 'Precipitation', 'Wind_Speed', 'Latitude', 'Longitude']\n",
    "\n",
    "df_weather[weather_cols] = weather_df[[\n",
    "    'time', 'temperature_2m (°C)', 'precipitation (mm)', 'windspeed_10m (km/h)', 'latitude', 'longitude'\n",
    "    ]].copy()\n",
    "\n",
    "df_weather['Time'] = pd.to_datetime(df_weather['Time'], format='%Y-%m-%d %H:%M:%S')\n",
    "\n",
    "float_cols = ['Temperature', 'Precipitation', 'Wind_Speed', 'Latitude', 'Longitude']\n",
    "df_weather[float_cols] = df_weather[float_cols].replace(',', '.', regex=True).astype(float)\n",
    "\n",
    "df_weather['Date'] = df_weather['Time'].dt.date\n",
    "df_weather = df_weather[['Date', 'Temperature', 'Precipitation', 'Wind_Speed', 'Latitude', 'Longitude']].copy()\n",
    "df_weather.head(8)"
   ]
  },
  {
   "cell_type": "code",
   "execution_count": 28,
   "metadata": {
    "ExecuteTime": {
     "end_time": "2023-06-18T00:32:35.753250300Z",
     "start_time": "2023-06-18T00:32:35.447188400Z"
    }
   },
   "outputs": [
    {
     "ename": "TypeError",
     "evalue": "'<' not supported between instances of 'str' and 'float'",
     "output_type": "error",
     "traceback": [
      "\u001B[1;31m---------------------------------------------------------------------------\u001B[0m",
      "\u001B[1;31mTypeError\u001B[0m                                 Traceback (most recent call last)",
      "Cell \u001B[1;32mIn[28], line 13\u001B[0m\n\u001B[0;32m     10\u001B[0m     \u001B[38;5;28;01melse\u001B[39;00m:\n\u001B[0;32m     11\u001B[0m         \u001B[38;5;28;01mreturn\u001B[39;00m \u001B[38;5;124m'\u001B[39m\u001B[38;5;124mViolent\u001B[39m\u001B[38;5;124m'\u001B[39m\n\u001B[1;32m---> 13\u001B[0m df_weather[\u001B[38;5;124m'\u001B[39m\u001B[38;5;124mPrecipitation\u001B[39m\u001B[38;5;124m'\u001B[39m] \u001B[38;5;241m=\u001B[39m \u001B[43mdf_weather\u001B[49m\u001B[43m[\u001B[49m\u001B[38;5;124;43m'\u001B[39;49m\u001B[38;5;124;43mPrecipitation\u001B[39;49m\u001B[38;5;124;43m'\u001B[39;49m\u001B[43m]\u001B[49m\u001B[38;5;241;43m.\u001B[39;49m\u001B[43mapply\u001B[49m\u001B[43m(\u001B[49m\u001B[43mremap_perciption\u001B[49m\u001B[43m)\u001B[49m\n\u001B[0;32m     14\u001B[0m df_weather\u001B[38;5;241m.\u001B[39mhead()\n",
      "File \u001B[1;32m~\\AppData\\Local\\Programs\\Python\\Python39\\lib\\site-packages\\pandas\\core\\series.py:4631\u001B[0m, in \u001B[0;36mSeries.apply\u001B[1;34m(self, func, convert_dtype, args, **kwargs)\u001B[0m\n\u001B[0;32m   4521\u001B[0m \u001B[38;5;28;01mdef\u001B[39;00m \u001B[38;5;21mapply\u001B[39m(\n\u001B[0;32m   4522\u001B[0m     \u001B[38;5;28mself\u001B[39m,\n\u001B[0;32m   4523\u001B[0m     func: AggFuncType,\n\u001B[1;32m   (...)\u001B[0m\n\u001B[0;32m   4526\u001B[0m     \u001B[38;5;241m*\u001B[39m\u001B[38;5;241m*\u001B[39mkwargs,\n\u001B[0;32m   4527\u001B[0m ) \u001B[38;5;241m-\u001B[39m\u001B[38;5;241m>\u001B[39m DataFrame \u001B[38;5;241m|\u001B[39m Series:\n\u001B[0;32m   4528\u001B[0m \u001B[38;5;250m    \u001B[39m\u001B[38;5;124;03m\"\"\"\u001B[39;00m\n\u001B[0;32m   4529\u001B[0m \u001B[38;5;124;03m    Invoke function on values of Series.\u001B[39;00m\n\u001B[0;32m   4530\u001B[0m \n\u001B[1;32m   (...)\u001B[0m\n\u001B[0;32m   4629\u001B[0m \u001B[38;5;124;03m    dtype: float64\u001B[39;00m\n\u001B[0;32m   4630\u001B[0m \u001B[38;5;124;03m    \"\"\"\u001B[39;00m\n\u001B[1;32m-> 4631\u001B[0m     \u001B[38;5;28;01mreturn\u001B[39;00m \u001B[43mSeriesApply\u001B[49m\u001B[43m(\u001B[49m\u001B[38;5;28;43mself\u001B[39;49m\u001B[43m,\u001B[49m\u001B[43m \u001B[49m\u001B[43mfunc\u001B[49m\u001B[43m,\u001B[49m\u001B[43m \u001B[49m\u001B[43mconvert_dtype\u001B[49m\u001B[43m,\u001B[49m\u001B[43m \u001B[49m\u001B[43margs\u001B[49m\u001B[43m,\u001B[49m\u001B[43m \u001B[49m\u001B[43mkwargs\u001B[49m\u001B[43m)\u001B[49m\u001B[38;5;241;43m.\u001B[39;49m\u001B[43mapply\u001B[49m\u001B[43m(\u001B[49m\u001B[43m)\u001B[49m\n",
      "File \u001B[1;32m~\\AppData\\Local\\Programs\\Python\\Python39\\lib\\site-packages\\pandas\\core\\apply.py:1025\u001B[0m, in \u001B[0;36mSeriesApply.apply\u001B[1;34m(self)\u001B[0m\n\u001B[0;32m   1022\u001B[0m     \u001B[38;5;28;01mreturn\u001B[39;00m \u001B[38;5;28mself\u001B[39m\u001B[38;5;241m.\u001B[39mapply_str()\n\u001B[0;32m   1024\u001B[0m \u001B[38;5;66;03m# self.f is Callable\u001B[39;00m\n\u001B[1;32m-> 1025\u001B[0m \u001B[38;5;28;01mreturn\u001B[39;00m \u001B[38;5;28;43mself\u001B[39;49m\u001B[38;5;241;43m.\u001B[39;49m\u001B[43mapply_standard\u001B[49m\u001B[43m(\u001B[49m\u001B[43m)\u001B[49m\n",
      "File \u001B[1;32m~\\AppData\\Local\\Programs\\Python\\Python39\\lib\\site-packages\\pandas\\core\\apply.py:1076\u001B[0m, in \u001B[0;36mSeriesApply.apply_standard\u001B[1;34m(self)\u001B[0m\n\u001B[0;32m   1074\u001B[0m     \u001B[38;5;28;01melse\u001B[39;00m:\n\u001B[0;32m   1075\u001B[0m         values \u001B[38;5;241m=\u001B[39m obj\u001B[38;5;241m.\u001B[39mastype(\u001B[38;5;28mobject\u001B[39m)\u001B[38;5;241m.\u001B[39m_values\n\u001B[1;32m-> 1076\u001B[0m         mapped \u001B[38;5;241m=\u001B[39m \u001B[43mlib\u001B[49m\u001B[38;5;241;43m.\u001B[39;49m\u001B[43mmap_infer\u001B[49m\u001B[43m(\u001B[49m\n\u001B[0;32m   1077\u001B[0m \u001B[43m            \u001B[49m\u001B[43mvalues\u001B[49m\u001B[43m,\u001B[49m\n\u001B[0;32m   1078\u001B[0m \u001B[43m            \u001B[49m\u001B[43mf\u001B[49m\u001B[43m,\u001B[49m\n\u001B[0;32m   1079\u001B[0m \u001B[43m            \u001B[49m\u001B[43mconvert\u001B[49m\u001B[38;5;241;43m=\u001B[39;49m\u001B[38;5;28;43mself\u001B[39;49m\u001B[38;5;241;43m.\u001B[39;49m\u001B[43mconvert_dtype\u001B[49m\u001B[43m,\u001B[49m\n\u001B[0;32m   1080\u001B[0m \u001B[43m        \u001B[49m\u001B[43m)\u001B[49m\n\u001B[0;32m   1082\u001B[0m \u001B[38;5;28;01mif\u001B[39;00m \u001B[38;5;28mlen\u001B[39m(mapped) \u001B[38;5;129;01mand\u001B[39;00m \u001B[38;5;28misinstance\u001B[39m(mapped[\u001B[38;5;241m0\u001B[39m], ABCSeries):\n\u001B[0;32m   1083\u001B[0m     \u001B[38;5;66;03m# GH#43986 Need to do list(mapped) in order to get treated as nested\u001B[39;00m\n\u001B[0;32m   1084\u001B[0m     \u001B[38;5;66;03m#  See also GH#25959 regarding EA support\u001B[39;00m\n\u001B[0;32m   1085\u001B[0m     \u001B[38;5;28;01mreturn\u001B[39;00m obj\u001B[38;5;241m.\u001B[39m_constructor_expanddim(\u001B[38;5;28mlist\u001B[39m(mapped), index\u001B[38;5;241m=\u001B[39mobj\u001B[38;5;241m.\u001B[39mindex)\n",
      "File \u001B[1;32m~\\AppData\\Local\\Programs\\Python\\Python39\\lib\\site-packages\\pandas\\_libs\\lib.pyx:2834\u001B[0m, in \u001B[0;36mpandas._libs.lib.map_infer\u001B[1;34m()\u001B[0m\n",
      "Cell \u001B[1;32mIn[28], line 4\u001B[0m, in \u001B[0;36mremap_perciption\u001B[1;34m(perciption)\u001B[0m\n\u001B[0;32m      2\u001B[0m \u001B[38;5;28;01mif\u001B[39;00m perciption \u001B[38;5;241m==\u001B[39m \u001B[38;5;241m0\u001B[39m:\n\u001B[0;32m      3\u001B[0m     \u001B[38;5;28;01mreturn\u001B[39;00m \u001B[38;5;124m'\u001B[39m\u001B[38;5;124mNo\u001B[39m\u001B[38;5;124m'\u001B[39m\n\u001B[1;32m----> 4\u001B[0m \u001B[38;5;28;01melif\u001B[39;00m \u001B[43mperciption\u001B[49m\u001B[43m \u001B[49m\u001B[38;5;241;43m<\u001B[39;49m\u001B[43m \u001B[49m\u001B[38;5;241;43m2.5\u001B[39;49m:\n\u001B[0;32m      5\u001B[0m     \u001B[38;5;28;01mreturn\u001B[39;00m \u001B[38;5;124m'\u001B[39m\u001B[38;5;124mLight\u001B[39m\u001B[38;5;124m'\u001B[39m\n\u001B[0;32m      6\u001B[0m \u001B[38;5;28;01melif\u001B[39;00m perciption \u001B[38;5;241m<\u001B[39m \u001B[38;5;241m7.6\u001B[39m:\n",
      "\u001B[1;31mTypeError\u001B[0m: '<' not supported between instances of 'str' and 'float'"
     ]
    }
   ],
   "source": [
    "def remap_perciption(perciption):\n",
    "    if perciption == 0:\n",
    "        return 'No'\n",
    "    elif perciption < 2.5:\n",
    "        return 'Light'\n",
    "    elif perciption < 7.6:\n",
    "        return 'Moderate'\n",
    "    elif perciption < 50.8:\n",
    "        return 'Heavy'\n",
    "    else:\n",
    "        return 'Violent'\n",
    "    \n",
    "df_weather['Precipitation'] = df_weather['Precipitation'].apply(remap_perciption)\n",
    "df_weather.head()"
   ]
  },
  {
   "cell_type": "code",
   "execution_count": null,
   "metadata": {
    "ExecuteTime": {
     "start_time": "2023-06-18T00:29:35.157096300Z"
    }
   },
   "outputs": [],
   "source": [
    "def remap_wind(wind):\n",
    "    if wind < 1.6:\n",
    "        return 'Calm'\n",
    "    elif wind < 5.5:\n",
    "        return 'Light'\n",
    "    elif wind < 11.1:\n",
    "        return 'Moderate'\n",
    "    elif wind < 19.8:\n",
    "        return 'Fresh'\n",
    "    elif wind < 28.5:\n",
    "        return 'Strong'\n",
    "    elif wind < 38.9:\n",
    "        return 'Near Gale'\n",
    "    elif wind < 49.6:\n",
    "        return 'Gale'\n",
    "    elif wind < 61.2:\n",
    "        return 'Strong Gale'\n",
    "    elif wind < 74.2:\n",
    "        return 'Storm'\n",
    "    else:\n",
    "        return 'Violent Storm'\n",
    "\n",
    "df_weather['Wind_Speed'] = df_weather['Wind_Speed'].apply(remap_wind)\n",
    "df_weather.head()"
   ]
  },
  {
   "cell_type": "code",
   "execution_count": null,
   "metadata": {
    "ExecuteTime": {
     "start_time": "2023-06-18T00:29:35.158093300Z"
    }
   },
   "outputs": [],
   "source": [
    "df_weather['Wind_Speed'].value_counts()"
   ]
  },
  {
   "cell_type": "code",
   "execution_count": null,
   "metadata": {
    "ExecuteTime": {
     "start_time": "2023-06-18T00:29:35.158093300Z"
    }
   },
   "outputs": [],
   "source": [
    "def remap_temperature(temperature):\n",
    "    if temperature < -20:\n",
    "        return 'Extreme Cold'\n",
    "    elif temperature < -10:\n",
    "        return 'Very Cold'\n",
    "    elif temperature < 0:\n",
    "        return 'Cold'\n",
    "    elif temperature < 10:\n",
    "        return 'Cool'\n",
    "    elif temperature < 20:\n",
    "        return 'Mild'\n",
    "    elif temperature < 30:\n",
    "        return 'Warm'\n",
    "    elif temperature < 40:\n",
    "        return 'Hot'\n",
    "    else:\n",
    "        return 'Very Hot'\n",
    "\n",
    "df_weather['Temperature'] = df_weather['Temperature'].apply(remap_temperature)\n",
    "df_weather.head()"
   ]
  },
  {
   "cell_type": "code",
   "execution_count": 30,
   "metadata": {
    "ExecuteTime": {
     "end_time": "2023-06-18T00:33:37.045230Z",
     "start_time": "2023-06-18T00:33:37.016765400Z"
    }
   },
   "outputs": [
    {
     "data": {
      "text/plain": "Temperature\n21,1     47\n22       46\n21,6     46\n21,4     46\n20,9     45\n         ..\n-14,7     1\n30,4      1\n-14,9     1\n-15,7     1\n30,5      1\nName: count, Length: 471, dtype: int64"
     },
     "execution_count": 30,
     "metadata": {},
     "output_type": "execute_result"
    }
   ],
   "source": [
    "df_weather['Temperature'].value_counts()"
   ]
  },
  {
   "cell_type": "code",
   "execution_count": null,
   "metadata": {
    "ExecuteTime": {
     "start_time": "2023-06-18T00:29:35.159096200Z"
    }
   },
   "outputs": [],
   "source": [
    "def remap_cloudcover(cloud_cover):\n",
    "    if cloud_cover == 0:\n",
    "        return 'No'\n",
    "    elif cloud_cover > 0 and cloud_cover < 10:\n",
    "        return 'Light'\n",
    "    elif cloud_cover >=10 and cloud_cover < 30:\n",
    "        return 'Moderate'\n",
    "    elif cloud_cover >=30 and cloud_cover < 70:\n",
    "        return 'Heavy'\n",
    "    else:\n",
    "        return 'Very Heavy'\n",
    "\n",
    "\n",
    "df_weather['cloudcover (%)'] = df_weather['cloudcover (%)'].apply(remap_cloudcover)\n",
    "df_weather.head()"
   ]
  }
 ],
 "metadata": {
  "kernelspec": {
   "display_name": "Python 3",
   "language": "python",
   "name": "python3"
  },
  "language_info": {
   "codemirror_mode": {
    "name": "ipython",
    "version": 3
   },
   "file_extension": ".py",
   "mimetype": "text/x-python",
   "name": "python",
   "nbconvert_exporter": "python",
   "pygments_lexer": "ipython3",
   "version": "3.10.6"
  },
  "orig_nbformat": 4
 },
 "nbformat": 4,
 "nbformat_minor": 2
}
